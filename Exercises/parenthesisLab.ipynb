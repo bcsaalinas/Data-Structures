{
 "cells": [
  {
   "cell_type": "code",
   "execution_count": 1,
   "id": "d21875b0-b8d8-428d-b1b8-eddd2010bda8",
   "metadata": {},
   "outputs": [],
   "source": [
    "def Valid(s:str):\n",
    "    stack = []\n",
    "    match = {\")\" : \"(\", \"}\" : \"{\" , \">\" : \"<\", \"]\" : \"[\" }\n",
    "    for pos, i in enumerate(s):\n",
    "        if i in match:\n",
    "            stack.append(i)\n",
    "            print(match)\n",
    "\n",
    "\n",
    "        \n",
    "        "
   ]
  },
  {
   "cell_type": "code",
   "execution_count": 3,
   "id": "27ba5ea8-3a36-41ea-ad28-2a5784ab9bfd",
   "metadata": {},
   "outputs": [],
   "source": []
  },
  {
   "cell_type": "code",
   "execution_count": null,
   "id": "4816d1a6-20d7-4b89-9b81-a3b5155d012e",
   "metadata": {},
   "outputs": [],
   "source": []
  }
 ],
 "metadata": {
  "kernelspec": {
   "display_name": "Python 3 (ipykernel)",
   "language": "python",
   "name": "python3"
  },
  "language_info": {
   "codemirror_mode": {
    "name": "ipython",
    "version": 3
   },
   "file_extension": ".py",
   "mimetype": "text/x-python",
   "name": "python",
   "nbconvert_exporter": "python",
   "pygments_lexer": "ipython3",
   "version": "3.13.7"
  }
 },
 "nbformat": 4,
 "nbformat_minor": 5
}
