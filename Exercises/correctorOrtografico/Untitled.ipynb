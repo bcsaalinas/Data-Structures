{
 "cells": [
  {
   "cell_type": "code",
   "execution_count": null,
   "id": "ec711c8a-0204-4bf8-b009-731a00b23949",
   "metadata": {},
   "outputs": [],
   "source": [
    "file = open(\"lemario.txt\")\n",
    "datos = file.readLine()\n",
    "\n",
    "lemario = set()\n",
    "for dato in datos: \n",
    "    lemario.add(dato.rstrip(\"\\n\"))\n",
    "\n",
    "\n",
    "print*"
   ]
  }
 ],
 "metadata": {
  "kernelspec": {
   "display_name": "Python 3 (ipykernel)",
   "language": "python",
   "name": "python3"
  },
  "language_info": {
   "codemirror_mode": {
    "name": "ipython",
    "version": 3
   },
   "file_extension": ".py",
   "mimetype": "text/x-python",
   "name": "python",
   "nbconvert_exporter": "python",
   "pygments_lexer": "ipython3",
   "version": "3.13.7"
  }
 },
 "nbformat": 4,
 "nbformat_minor": 5
}
