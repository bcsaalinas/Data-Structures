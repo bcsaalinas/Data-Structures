{
 "cells": [
  {
   "cell_type": "code",
   "execution_count": 3,
   "id": "682cd707-b808-4cbe-841d-d430ca3cc55d",
   "metadata": {},
   "outputs": [],
   "source": [
    "class Tabla:\n",
    "    def __init__(self,tam=100):\n",
    "        self.tam = tam\n",
    "        self.datos = [[] for _ in range(tam)]\n",
    "    def insertar(self,llave,valor):\n",
    "        pos = hash(llave)%self.tam\n",
    "        casilla = self.datos[pos]\n",
    "        for x,y in casilla:\n",
    "            if x==llave:\n",
    "                print(\"Ya existe ese elemento\")\n",
    "            break\n",
    "        else:\n",
    "            casilla.append( (llave,valor) )\n",
    "    def buscar(self,llave):\n",
    "        pos = hash(llave)%self.tam\n",
    "        casilla = self.datos[pos]\n",
    "        for x,y in casilla:\n",
    "            if x==llave:\n",
    "                return y \n",
    "        return None\n",
    "\n",
    "    def __setitem__(self,llave,valor):\n",
    "        self.insertar(llave,valor)\n",
    "    def __getitem__(self,llave):\n",
    "        return self.buscar(llave)\n",
    "        "
   ]
  },
  {
   "cell_type": "code",
   "execution_count": 4,
   "id": "db2972e1-5c03-4066-9aab-c0ccaf607e17",
   "metadata": {},
   "outputs": [
    {
     "name": "stdout",
     "output_type": "stream",
     "text": [
      "Ya existe ese elemento\n",
      "A santiago le gusta comer tacos\n",
      "A ana paula le gusta comer espaguetti\n",
      "A gael le gusta comer None\n"
     ]
    }
   ],
   "source": [
    "tabla = Tabla(10)\n",
    "tabla[\"leonardo\"] =  \"pozole\"\n",
    "tabla[\"ana paula\"] =\"espaguetti\"\n",
    "tabla[\"santiago\"] =  \"tacos\"\n",
    "tabla[\"leonardo\"] =\"flautas\"\n",
    "tabla[\"angel\"] = \"curry\"\n",
    "for x in [\"santiago\",\"ana paula\", \"gael\"]:\n",
    "    print(f\"A {x} le gusta comer {tabla[x]}\")"
   ]
  },
  {
   "cell_type": "code",
   "execution_count": null,
   "id": "fa0714e7-b3b5-42b5-b657-53a9a66ae920",
   "metadata": {},
   "outputs": [],
   "source": []
  }
 ],
 "metadata": {
  "kernelspec": {
   "display_name": "Python 3 (ipykernel)",
   "language": "python",
   "name": "python3"
  },
  "language_info": {
   "codemirror_mode": {
    "name": "ipython",
    "version": 3
   },
   "file_extension": ".py",
   "mimetype": "text/x-python",
   "name": "python",
   "nbconvert_exporter": "python",
   "pygments_lexer": "ipython3",
   "version": "3.13.7"
  }
 },
 "nbformat": 4,
 "nbformat_minor": 5
}
